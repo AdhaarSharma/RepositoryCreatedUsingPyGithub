{
 "cells": [
  {
   "cell_type": "code",
   "execution_count": 7,
   "id": "2e32fdce",
   "metadata": {},
   "outputs": [],
   "source": [
    "token = \"\""
   ]
  },
  {
   "cell_type": "code",
   "execution_count": 8,
   "id": "c522d776",
   "metadata": {},
   "outputs": [
    {
     "name": "stdout",
     "output_type": "stream",
     "text": [
      "AdhaarSharma\n",
      "calculator\n",
      "CarAndSwimmingPoolDetectionUsingSatelliteImageDataset\n",
      "DSA\n",
      "Ducktape\n",
      "Email-and-Contact-Validation\n",
      "FaceMask-objection-detection-api\n",
      "GithubActionSchedule\n",
      "MLFundamentals\n",
      "mlpack101\n",
      "openpose\n",
      "Pandas-101\n",
      "py\n",
      "Pymetrics\n",
      "Qt-calculator\n",
      "ResearchPapers\n",
      "Satellite-Data-Classification-using-Random-Forest-Classifier\n",
      "StockDataNSE\n",
      "SVM-in-Cpp-\n",
      "Data-Cleaning-Software\n"
     ]
    }
   ],
   "source": [
    "from github import Github\n",
    "\n",
    "# First create a Github instance:\n",
    "\n",
    "# using an access token\n",
    "g = Github(token)\n",
    "\n",
    "# Then play with your Github objects:\n",
    "for repo in g.get_user().get_repos():\n",
    "    print(repo.name)"
   ]
  },
  {
   "cell_type": "code",
   "execution_count": 10,
   "id": "b0bc173c",
   "metadata": {},
   "outputs": [],
   "source": [
    "g = Github(token)\n",
    "user = g.get_user()\n",
    "repo = user.create_repo(\"RepositoryCreatedUsingPyGithub\")"
   ]
  },
  {
   "cell_type": "code",
   "execution_count": 14,
   "id": "a69d4b9c",
   "metadata": {},
   "outputs": [],
   "source": [
    "repo = g.get_repo(\"AdhaarSharma/RepositoryCreatedUsingPyGithub\")"
   ]
  },
  {
   "cell_type": "code",
   "execution_count": 16,
   "id": "543e1491",
   "metadata": {},
   "outputs": [
    {
     "data": {
      "text/plain": [
       "{'content': ContentFile(path=\"Testing/new_file.txt\"),\n",
       " 'commit': Commit(sha=\"daf03fca497e06b8c29abb435f215b50ff2227b0\")}"
      ]
     },
     "execution_count": 16,
     "metadata": {},
     "output_type": "execute_result"
    }
   ],
   "source": [
    "repo.create_file(\"Testing/new_file.txt\", \"init commit\", \"file_content ------ \")"
   ]
  },
  {
   "cell_type": "code",
   "execution_count": null,
   "id": "289cd4a2",
   "metadata": {},
   "outputs": [],
   "source": []
  }
 ],
 "metadata": {
  "kernelspec": {
   "display_name": "Python 3 (ipykernel)",
   "language": "python",
   "name": "python3"
  },
  "language_info": {
   "codemirror_mode": {
    "name": "ipython",
    "version": 3
   },
   "file_extension": ".py",
   "mimetype": "text/x-python",
   "name": "python",
   "nbconvert_exporter": "python",
   "pygments_lexer": "ipython3",
   "version": "3.9.7"
  }
 },
 "nbformat": 4,
 "nbformat_minor": 5
}
